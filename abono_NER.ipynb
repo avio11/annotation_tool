{
 "cells": [
  {
   "cell_type": "code",
   "execution_count": 1,
   "metadata": {},
   "outputs": [],
   "source": [
    "import pandas as pd\n",
    "import sklearn_crfsuite\n",
    "from sklearn_crfsuite import metrics\n",
    "import joblib\n",
    "import math"
   ]
  },
  {
   "cell_type": "code",
   "execution_count": 2,
   "metadata": {},
   "outputs": [
    {
     "name": "stdout",
     "output_type": "stream",
     "text": [
      "228\n"
     ]
    }
   ],
   "source": [
    "df = pd.read_csv('data/data_abono/labeled.csv')\n",
    "print(len(df))\n",
    "# train = df[:math.floor(0.7*len(df))]\n",
    "# test  = df[math.floor(0.7*len(df)):]\n",
    "# print(len(df), len(train), len(test))\n",
    "# df = []"
   ]
  },
  {
   "cell_type": "code",
   "execution_count": 3,
   "metadata": {},
   "outputs": [
    {
     "data": {
      "text/plain": [
       "(228, 182, 182, 46, 46)"
      ]
     },
     "execution_count": 3,
     "metadata": {},
     "output_type": "execute_result"
    }
   ],
   "source": [
    "def extract_features(sentence):\n",
    "  sentence_features = []\n",
    "  for j in range(len(sentence)):\n",
    "    word_feat = {\n",
    "            'word': sentence[j].lower(),\n",
    "            'capital_letter': sentence[j][0].isupper(),\n",
    "            'all_capital': sentence[j].isupper(),\n",
    "            'isdigit': sentence[j].isdigit(),\n",
    "            'word_before': sentence[j].lower() if j==0 else sentence[j-1].lower(),\n",
    "            'word_after:': sentence[j].lower() if j+1>=len(sentence) else sentence[j+1].lower(),\n",
    "            'BOS': j==0,\n",
    "            'EOS': j==len(sentence)-1\n",
    "    }\n",
    "    sentence_features.append(word_feat)\n",
    "  return sentence_features\n",
    "\n",
    "def separate_cols(arq):\n",
    "    x = []\n",
    "    y = []\n",
    "    for i in range(len(arq)):\n",
    "        x.append(extract_features(arq['text'][i].split()))\n",
    "        y.append(arq['labels'][i].split())\n",
    "    return x, y\n",
    "\n",
    "x, y = separate_cols(df)\n",
    "train_x = x[:math.floor(0.8*len(df))]\n",
    "train_y = y[:math.floor(0.8*len(df))]\n",
    "test_x = x[math.floor(0.8*len(df)):]\n",
    "test_y = y[math.floor(0.8*len(df)):]\n",
    "\n",
    "len(df), len(train_x), len(train_y), len(test_x), len(test_y)"
   ]
  },
  {
   "cell_type": "code",
   "execution_count": 4,
   "metadata": {},
   "outputs": [],
   "source": [
    "model = sklearn_crfsuite.CRF(\n",
    "    algorithm = 'l2sgd', \n",
    "    c2=1,\n",
    "    max_iterations=100, \n",
    "    all_possible_transitions=True,\n",
    "    verbose=False\n",
    ")\n",
    "\n",
    "model.fit(train_x, train_y)\n",
    "y_pred = model.predict(test_x)"
   ]
  },
  {
   "cell_type": "code",
   "execution_count": 16,
   "metadata": {},
   "outputs": [
    {
     "name": "stdout",
     "output_type": "stream",
     "text": [
      "0.9702607256014307\n"
     ]
    }
   ],
   "source": [
    "labels = list(model.classes_)\n",
    "labels.remove('O')\n",
    "\n",
    "f1 = metrics.flat_f1_score(test_y, y_pred, \n",
    "                      average='weighted', labels=labels)\n",
    "print(f1)"
   ]
  },
  {
   "cell_type": "code",
   "execution_count": 17,
   "metadata": {},
   "outputs": [
    {
     "name": "stdout",
     "output_type": "stream",
     "text": [
      "                                 precision    recall  f1-score   support\n",
      "\n",
      "                         B-Nome      0.985     0.977     0.981       133\n",
      "                         I-Nome      0.983     0.988     0.985       408\n",
      "                B-cargo_efetivo      0.981     0.962     0.971        53\n",
      "                I-cargo_efetivo      0.987     0.983     0.985       238\n",
      "                    B-matricula      1.000     0.985     0.992       133\n",
      "                    I-matricula      1.000     1.000     1.000        98\n",
      "                        B-siape      1.000     1.000     1.000        11\n",
      "                        I-siape      1.000     1.000     1.000        32\n",
      "                     B-vigencia      1.000     0.962     0.981       133\n",
      "                     I-vigencia      1.000     0.966     0.983       409\n",
      "             B-processo_gdf_sei      0.931     1.000     0.964       135\n",
      "             I-processo_gdf_sei      1.000     1.000     1.000        84\n",
      "    B-fundamento_legal_do_abono      0.970     0.980     0.975       198\n",
      "    I-fundamento_legal_do_abono      0.989     0.974     0.982      1725\n",
      "                       B-padrao      1.000     1.000     1.000        36\n",
      "                       I-padrao      1.000     1.000     1.000        36\n",
      "B-quadro_permanente-suplementar      1.000     0.486     0.655        37\n",
      "I-quadro_permanente-suplementar      1.000     0.685     0.813       241\n",
      "\n",
      "                      micro avg      0.988     0.957     0.972      4140\n",
      "                      macro avg      0.990     0.942     0.959      4140\n",
      "                   weighted avg      0.989     0.957     0.970      4140\n",
      "\n"
     ]
    },
    {
     "name": "stderr",
     "output_type": "stream",
     "text": [
      "E:\\Instalations\\envs\\ner\\lib\\site-packages\\sklearn\\utils\\validation.py:68: FutureWarning: Pass labels=['B-Nome', 'I-Nome', 'B-cargo_efetivo', 'I-cargo_efetivo', 'B-matricula', 'I-matricula', 'B-siape', 'I-siape', 'B-vigencia', 'I-vigencia', 'B-processo_gdf_sei', 'I-processo_gdf_sei', 'B-fundamento_legal_do_abono', 'I-fundamento_legal_do_abono', 'B-padrao', 'I-padrao', 'B-quadro_permanente-suplementar', 'I-quadro_permanente-suplementar'] as keyword args. From version 0.25 passing these as positional arguments will result in an error\n",
      "  warnings.warn(\"Pass {} as keyword args. From version 0.25 \"\n"
     ]
    }
   ],
   "source": [
    "print(metrics.flat_classification_report(\n",
    "    test_y, y_pred, labels=labels, digits=3\n",
    "))"
   ]
  },
  {
   "cell_type": "code",
   "execution_count": 19,
   "metadata": {},
   "outputs": [
    {
     "data": {
      "text/plain": [
       "['abono_ner.pkl']"
      ]
     },
     "execution_count": 19,
     "metadata": {},
     "output_type": "execute_result"
    }
   ],
   "source": [
    "# Save trained model\n",
    "joblib.dump(model, \"abono_ner.pkl\")"
   ]
  }
 ],
 "metadata": {
  "kernelspec": {
   "display_name": "Python 3",
   "language": "python",
   "name": "python3"
  },
  "language_info": {
   "codemirror_mode": {
    "name": "ipython",
    "version": 3
   },
   "file_extension": ".py",
   "mimetype": "text/x-python",
   "name": "python",
   "nbconvert_exporter": "python",
   "pygments_lexer": "ipython3",
   "version": "3.8.3"
  }
 },
 "nbformat": 4,
 "nbformat_minor": 4
}
