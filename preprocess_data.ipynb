{
 "cells": [
  {
   "cell_type": "code",
   "execution_count": 2,
   "metadata": {},
   "outputs": [],
   "source": [
    "import pandas as pd\n",
    "\n",
    "df = pd.read_csv(\"data/abono.csv\")"
   ]
  },
  {
   "cell_type": "code",
   "execution_count": 21,
   "metadata": {
    "scrolled": true
   },
   "outputs": [
    {
     "data": {
      "text/plain": [
       "'Abono de Permanencia aoservidor HAROLDO DA SILVA, \\nmatricula 42.825-6, ONDE SE LE: ...de acordo com o artigo 2o,  5o da Emenda Constitucio-\\nnal no 41, de 19 de dezembro de 2003..., LEIA-SE: ...de acordo com o artigo 3o, da Emenda \\nConstitucional no 47, de 5 de julho de 2005, com amparo na Decisao no 20/2012  TCDF.... SECRETARIA DE ESTADO \\nDE ADMINISTRACAO PUBLICA PORTARIA No 128, DE 15 DE JULHO DE 2013.\\n'"
      ]
     },
     "execution_count": 21,
     "metadata": {},
     "output_type": "execute_result"
    }
   ],
   "source": [
    "df['text'][0]"
   ]
  },
  {
   "cell_type": "code",
   "execution_count": 22,
   "metadata": {},
   "outputs": [
    {
     "data": {
      "text/plain": [
       "'Abono de Permanencia aoservidor HAROLDO DA SILVA ,   matricula 42.825-6 ,  ONDE SE LE :  ...de acordo com o artigo 2o ,   5o da Emenda Constitucio- nal no 41 ,  de 19 de dezembro de 2003.. . ,  LEIA-SE :  ...de acordo com o artigo 3o ,  da Emenda  Constitucional no 47 ,  de 5 de julho de 2005 ,  com amparo na Decisao no 20/2012  TCDF... . SECRETARIA DE ESTADO  DE ADMINISTRACAO PUBLICA PORTARIA No 128 ,  DE 15 DE JULHO DE 2013 .'"
      ]
     },
     "execution_count": 22,
     "metadata": {},
     "output_type": "execute_result"
    }
   ],
   "source": [
    "def data_setup(df):\n",
    "    data = []\n",
    "    for row in range(len(df)):\n",
    "        aux = df['text'][row].replace(',', ' , ').replace(';', ' ; ').replace(':', ' : ').replace('. ', ' . ').replace('\\n', ' ')\n",
    "        if aux[len(aux)-2:] == '. ':\n",
    "            aux = aux[:len(aux)-2] + \" .\"\n",
    "        data.append(aux)\n",
    "    return data\n",
    "data = data_setup(df)\n",
    "df = []\n",
    "data[0]"
   ]
  },
  {
   "cell_type": "code",
   "execution_count": 24,
   "metadata": {},
   "outputs": [],
   "source": [
    "df = pd.DataFrame({'text': data})"
   ]
  },
  {
   "cell_type": "code",
   "execution_count": 26,
   "metadata": {},
   "outputs": [],
   "source": [
    "df.to_csv('unlabeled.csv')"
   ]
  },
  {
   "cell_type": "code",
   "execution_count": 28,
   "metadata": {},
   "outputs": [],
   "source": [
    "aa = pd.read_csv('unlabeled.csv')"
   ]
  },
  {
   "cell_type": "code",
   "execution_count": 18,
   "metadata": {},
   "outputs": [
    {
     "name": "stdout",
     "output_type": "stream",
     "text": [
      "app.py\tNER_model  preprocess_data.ipynb  static     unlabeled_0.csv\r\n",
      "data\tner.py\t   README.md\t\t  templates\r\n"
     ]
    }
   ],
   "source": []
  },
  {
   "cell_type": "code",
   "execution_count": 1,
   "metadata": {},
   "outputs": [],
   "source": [
    "import pandas as pd\n",
    "a = pd.read_csv('data/labeled.csv')"
   ]
  },
  {
   "cell_type": "code",
   "execution_count": 5,
   "metadata": {},
   "outputs": [
    {
     "name": "stdout",
     "output_type": "stream",
     "text": [
      "False\n"
     ]
    }
   ],
   "source": [
    "import os\n",
    "print(os.path.isfile(\"data/labeled1.csv\"))"
   ]
  }
 ],
 "metadata": {
  "kernelspec": {
   "display_name": "Python 3",
   "language": "python",
   "name": "python3"
  },
  "language_info": {
   "codemirror_mode": {
    "name": "ipython",
    "version": 3
   },
   "file_extension": ".py",
   "mimetype": "text/x-python",
   "name": "python",
   "nbconvert_exporter": "python",
   "pygments_lexer": "ipython3",
   "version": "3.7.6"
  }
 },
 "nbformat": 4,
 "nbformat_minor": 4
}
