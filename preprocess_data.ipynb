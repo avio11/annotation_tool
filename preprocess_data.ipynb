{
 "cells": [
  {
   "cell_type": "code",
   "execution_count": 5,
   "metadata": {},
   "outputs": [
    {
     "name": "stderr",
     "output_type": "stream",
     "text": [
      "E:\\Instalations\\envs\\ner\\lib\\site-packages\\IPython\\core\\interactiveshell.py:3071: DtypeWarning: Columns (17,42) have mixed types.Specify dtype option on import or set low_memory=False.\n",
      "  has_raised = await self.run_ast_nodes(code_ast.body, cell_name,\n"
     ]
    }
   ],
   "source": [
    "import pandas as pd\n",
    "\n",
    "# df = pd.read_csv(\"data/abono.csv\")\n",
    "df = pd.read_csv(\"data/data_aposentadoria/aposentadoria.csv\")\n",
    "# df = pd.read_csv(\"data/substituicao.csv\")"
   ]
  },
  {
   "cell_type": "code",
   "execution_count": 6,
   "metadata": {},
   "outputs": [
    {
     "data": {
      "text/plain": [
       "Index(['Unnamed: 0', 'Ano', 'Mes', 'Publicacao', 'Unnamed: 0.1', 'Tipo do Ato',\n",
       "       'SEI', 'Nome', 'Matrícula', 'Tipo de Aposentadoria', 'Cargo', 'Classe',\n",
       "       'Padrao', 'Quadro', 'Fundamento Legal', 'Orgao', 'Vigencia',\n",
       "       'Matricula SIAPE', 'text', 'tipo_ato', 'tipo_documento', 'processo',\n",
       "       'dodf_data', 'dodf_num', 'tornado_sem_efeito_publicacao', 'dodf_pagina',\n",
       "       'servidor', 'matricula', 'cargo', 'dodf_tipo_edicao',\n",
       "       'Nome do Servidor Substituto', 'Matrícula do Servidor Substituto',\n",
       "       'Nome do Servidor a ser Substituido',\n",
       "       'Matrícula do Servidor a ser SubstituidoCargo',\n",
       "       'Símbolo do cargo do servidor substituto',\n",
       "       'Cargo comissionado objeto da substituição',\n",
       "       'Símbolo do cargo do objeto da substituição',\n",
       "       'Símbolo do cargo comissionado objeto da substituição',\n",
       "       'Hierarquia da Lotação', 'Órgão', 'Data Inicial da Vigência',\n",
       "       'Data Final de Vigência', 'Matrícula SIAPE', 'Motivo'],\n",
       "      dtype='object')"
      ]
     },
     "execution_count": 6,
     "metadata": {},
     "output_type": "execute_result"
    }
   ],
   "source": [
    "df.columns"
   ]
  },
  {
   "cell_type": "code",
   "execution_count": 7,
   "metadata": {
    "scrolled": true
   },
   "outputs": [
    {
     "data": {
      "text/plain": [
       "'CONCEDER aposentadoria a WAGNER RAMOS DA SILVA, matricula 25.448-7, no cargo \\nefetivo de Agente de Policia, Classe Especial, da Carreira de Policia Civil do Distrito Federal, \\nnos termos do artigo 1o, inciso I, da Lei Complementar no 51, de 20 de dezembro de 1985, \\ncombinado com o artigo 40,  3o e 4o da Constituicao da Republica Federativa do Brasil, \\ncom redacao dada pela Emenda Constitucional no 20/1998, e com os artigos 3o e 7o da Emenda \\nConstitucional no 41/2003.\\nCONCEDER aposentadoria a REGINALDO FERREIRA PAIVA, matricula 38.505-0, no cargo \\nefetivo de Agente de Policia, Classe Especial, da Carreira de Policia Civil do Distrito Federal, \\nnos termos do artigo 1o, inciso I, da Lei Complementar no 51, de 20 de dezembro de 1985, \\ncombinado com o artigo 40,  3o e 4o da Constituicao da Republica Federativa do Brasil, \\ncom redacao dada pela Emenda Constitucional no 20/1998, e com os artigos 3o e 7o da Emenda \\nConstitucional no 41/2003.\\nCONCEDER aposentadoria a RONALDO LUIZ DA SILVA, matricula 27.573-5, no cargo efetivo \\nde Agente de Policia, Classe Especial, da Carreira de Policia Civil do Distrito Federal, nos termos \\ndo artigo 1o, inciso I, da Lei Complementar no 51, de 20 de dezembro de 1985, combinado com \\no artigo 40,  3o e 4o da Constituicao da Republica Federativa do Brasil, com redacao dada pela \\nEmenda Constitucional no 20/1998, e com os artigos 3o e 7o da Emenda Constitucional no 41/2003.\\nSANDRO DE PAULA DIAS SECRETARIA DE ESTADO DE TRANSPORTES DEPARTAMENTO DE ESTRADAS DE \\nRODAGEM DO DISTRITO FEDERAL INSTRUCAO No 99, DE 15 DE JULHO DE 2013.\\nO DIRETOR GERAL DO DEPARTAMENTO DE ESTRADAS DE RODAGEM DO DISTRITO \\nFEDERAL, usando das atribuicoes previstas no Artigo 79, Incisos XVI e XVIII, do Regimento \\naprovado pelo Decreto no 25.735, de 06/04/2005, e tendo em vista o disposto nos artigos 217 \\na 221 da Lei Complementar no 840, de 23 de dezembro de 2011, e tendo em vista o consta do \\nProcesso no 113.113.008.475/2013.'"
      ]
     },
     "execution_count": 7,
     "metadata": {},
     "output_type": "execute_result"
    }
   ],
   "source": [
    "df['text'][0]"
   ]
  },
  {
   "cell_type": "code",
   "execution_count": 8,
   "metadata": {},
   "outputs": [
    {
     "data": {
      "text/plain": [
       "'CONCEDER aposentadoria a WAGNER RAMOS DA SILVA ,  matricula 25.448-7 ,  no cargo  efetivo de Agente de Policia ,  Classe Especial ,  da Carreira de Policia Civil do Distrito Federal ,   nos termos do artigo 1o ,  inciso I ,  da Lei Complementar no 51 ,  de 20 de dezembro de 1985 ,   combinado com o artigo 40 ,   3o e 4o da Constituicao da Republica Federativa do Brasil ,   com redacao dada pela Emenda Constitucional no 20/1998 ,  e com os artigos 3o e 7o da Emenda  Constitucional no 41/2003. CONCEDER aposentadoria a REGINALDO FERREIRA PAIVA ,  matricula 38.505-0 ,  no cargo  efetivo de Agente de Policia ,  Classe Especial ,  da Carreira de Policia Civil do Distrito Federal ,   nos termos do artigo 1o ,  inciso I ,  da Lei Complementar no 51 ,  de 20 de dezembro de 1985 ,   combinado com o artigo 40 ,   3o e 4o da Constituicao da Republica Federativa do Brasil ,   com redacao dada pela Emenda Constitucional no 20/1998 ,  e com os artigos 3o e 7o da Emenda  Constitucional no 41/2003. CONCEDER aposentadoria a RONALDO LUIZ DA SILVA ,  matricula 27.573-5 ,  no cargo efetivo  de Agente de Policia ,  Classe Especial ,  da Carreira de Policia Civil do Distrito Federal ,  nos termos  do artigo 1o ,  inciso I ,  da Lei Complementar no 51 ,  de 20 de dezembro de 1985 ,  combinado com  o artigo 40 ,   3o e 4o da Constituicao da Republica Federativa do Brasil ,  com redacao dada pela  Emenda Constitucional no 20/1998 ,  e com os artigos 3o e 7o da Emenda Constitucional no 41/2003. SANDRO DE PAULA DIAS SECRETARIA DE ESTADO DE TRANSPORTES DEPARTAMENTO DE ESTRADAS DE  RODAGEM DO DISTRITO FEDERAL INSTRUCAO No 99 ,  DE 15 DE JULHO DE 2013. O DIRETOR GERAL DO DEPARTAMENTO DE ESTRADAS DE RODAGEM DO DISTRITO  FEDERAL ,  usando das atribuicoes previstas no Artigo 79 ,  Incisos XVI e XVIII ,  do Regimento  aprovado pelo Decreto no 25.735 ,  de 06/04/2005 ,  e tendo em vista o disposto nos artigos 217  a 221 da Lei Complementar no 840 ,  de 23 de dezembro de 2011 ,  e tendo em vista o consta do  Processo no 113.113.008.475/2013.'"
      ]
     },
     "execution_count": 8,
     "metadata": {},
     "output_type": "execute_result"
    }
   ],
   "source": [
    "def data_setup(df):\n",
    "    data = []\n",
    "    for row in range(len(df)):\n",
    "        aux = df['text'][row].replace(',', ' , ').replace(';', ' ; ').replace(':', ' : ').replace('. ', ' . ').replace('\\n', ' ')\n",
    "        if aux[len(aux)-2:] == '. ':\n",
    "            aux = aux[:len(aux)-2] + \" .\"\n",
    "        data.append(aux)\n",
    "    return data\n",
    "data = data_setup(df)\n",
    "df = []\n",
    "data[0]"
   ]
  },
  {
   "cell_type": "code",
   "execution_count": 9,
   "metadata": {},
   "outputs": [],
   "source": [
    "df = pd.DataFrame({'text': data})"
   ]
  },
  {
   "cell_type": "code",
   "execution_count": 10,
   "metadata": {},
   "outputs": [],
   "source": [
    "df.to_csv('data/unlabeled.csv')"
   ]
  },
  {
   "cell_type": "code",
   "execution_count": 28,
   "metadata": {},
   "outputs": [],
   "source": [
    "aa = pd.read_csv('data/unlabeled.csv')"
   ]
  },
  {
   "cell_type": "code",
   "execution_count": 18,
   "metadata": {},
   "outputs": [
    {
     "name": "stdout",
     "output_type": "stream",
     "text": [
      "app.py\tNER_model  preprocess_data.ipynb  static     unlabeled_0.csv\r\n",
      "data\tner.py\t   README.md\t\t  templates\r\n"
     ]
    }
   ],
   "source": []
  },
  {
   "cell_type": "code",
   "execution_count": 11,
   "metadata": {
    "scrolled": true
   },
   "outputs": [
    {
     "name": "stdout",
     "output_type": "stream",
     "text": [
      "134 41245\n"
     ]
    }
   ],
   "source": [
    "import pandas as pd\n",
    "a = pd.read_csv('data/labeled.csv')\n",
    "b = pd.read_csv('data/unlabeled.csv')\n",
    "print(len(a), len(b))"
   ]
  },
  {
   "cell_type": "code",
   "execution_count": 10,
   "metadata": {},
   "outputs": [
    {
     "ename": "KeyError",
     "evalue": "'labels'",
     "output_type": "error",
     "traceback": [
      "\u001b[1;31m---------------------------------------------------------------------------\u001b[0m",
      "\u001b[1;31mKeyError\u001b[0m                                  Traceback (most recent call last)",
      "\u001b[1;32mE:\\Instalations\\lib\\site-packages\\pandas\\core\\indexes\\base.py\u001b[0m in \u001b[0;36mget_loc\u001b[1;34m(self, key, method, tolerance)\u001b[0m\n\u001b[0;32m   2645\u001b[0m             \u001b[1;32mtry\u001b[0m\u001b[1;33m:\u001b[0m\u001b[1;33m\u001b[0m\u001b[1;33m\u001b[0m\u001b[0m\n\u001b[1;32m-> 2646\u001b[1;33m                 \u001b[1;32mreturn\u001b[0m \u001b[0mself\u001b[0m\u001b[1;33m.\u001b[0m\u001b[0m_engine\u001b[0m\u001b[1;33m.\u001b[0m\u001b[0mget_loc\u001b[0m\u001b[1;33m(\u001b[0m\u001b[0mkey\u001b[0m\u001b[1;33m)\u001b[0m\u001b[1;33m\u001b[0m\u001b[1;33m\u001b[0m\u001b[0m\n\u001b[0m\u001b[0;32m   2647\u001b[0m             \u001b[1;32mexcept\u001b[0m \u001b[0mKeyError\u001b[0m\u001b[1;33m:\u001b[0m\u001b[1;33m\u001b[0m\u001b[1;33m\u001b[0m\u001b[0m\n",
      "\u001b[1;32mpandas\\_libs\\index.pyx\u001b[0m in \u001b[0;36mpandas._libs.index.IndexEngine.get_loc\u001b[1;34m()\u001b[0m\n",
      "\u001b[1;32mpandas\\_libs\\index.pyx\u001b[0m in \u001b[0;36mpandas._libs.index.IndexEngine.get_loc\u001b[1;34m()\u001b[0m\n",
      "\u001b[1;32mpandas\\_libs\\hashtable_class_helper.pxi\u001b[0m in \u001b[0;36mpandas._libs.hashtable.PyObjectHashTable.get_item\u001b[1;34m()\u001b[0m\n",
      "\u001b[1;32mpandas\\_libs\\hashtable_class_helper.pxi\u001b[0m in \u001b[0;36mpandas._libs.hashtable.PyObjectHashTable.get_item\u001b[1;34m()\u001b[0m\n",
      "\u001b[1;31mKeyError\u001b[0m: 'labels'",
      "\nDuring handling of the above exception, another exception occurred:\n",
      "\u001b[1;31mKeyError\u001b[0m                                  Traceback (most recent call last)",
      "\u001b[1;32m<ipython-input-10-d2e06bbf12bd>\u001b[0m in \u001b[0;36m<module>\u001b[1;34m\u001b[0m\n\u001b[0;32m      2\u001b[0m     \u001b[1;32mif\u001b[0m \u001b[0mtype\u001b[0m\u001b[1;33m(\u001b[0m\u001b[0ma\u001b[0m\u001b[1;33m[\u001b[0m\u001b[1;34m'text'\u001b[0m\u001b[1;33m]\u001b[0m\u001b[1;33m[\u001b[0m\u001b[0mi\u001b[0m\u001b[1;33m]\u001b[0m\u001b[1;33m)\u001b[0m \u001b[1;33m!=\u001b[0m \u001b[0mstr\u001b[0m\u001b[1;33m:\u001b[0m\u001b[1;33m\u001b[0m\u001b[1;33m\u001b[0m\u001b[0m\n\u001b[0;32m      3\u001b[0m         \u001b[0mprint\u001b[0m\u001b[1;33m(\u001b[0m\u001b[1;34m\"text:\"\u001b[0m\u001b[1;33m,\u001b[0m \u001b[0mi\u001b[0m\u001b[1;33m)\u001b[0m\u001b[1;33m\u001b[0m\u001b[1;33m\u001b[0m\u001b[0m\n\u001b[1;32m----> 4\u001b[1;33m     \u001b[1;32mif\u001b[0m \u001b[0mtype\u001b[0m\u001b[1;33m(\u001b[0m\u001b[0ma\u001b[0m\u001b[1;33m[\u001b[0m\u001b[1;34m'labels'\u001b[0m\u001b[1;33m]\u001b[0m\u001b[1;33m[\u001b[0m\u001b[0mi\u001b[0m\u001b[1;33m]\u001b[0m\u001b[1;33m)\u001b[0m \u001b[1;33m!=\u001b[0m \u001b[0mstr\u001b[0m\u001b[1;33m:\u001b[0m\u001b[1;33m\u001b[0m\u001b[1;33m\u001b[0m\u001b[0m\n\u001b[0m\u001b[0;32m      5\u001b[0m         \u001b[0mprint\u001b[0m\u001b[1;33m(\u001b[0m\u001b[1;34m\"labels:\"\u001b[0m\u001b[1;33m,\u001b[0m \u001b[0mi\u001b[0m\u001b[1;33m)\u001b[0m\u001b[1;33m\u001b[0m\u001b[1;33m\u001b[0m\u001b[0m\n\u001b[0;32m      6\u001b[0m     \u001b[1;32mif\u001b[0m \u001b[0mlen\u001b[0m\u001b[1;33m(\u001b[0m\u001b[0ma\u001b[0m\u001b[1;33m[\u001b[0m\u001b[1;34m'text'\u001b[0m\u001b[1;33m]\u001b[0m\u001b[1;33m[\u001b[0m\u001b[0mi\u001b[0m\u001b[1;33m]\u001b[0m\u001b[1;33m.\u001b[0m\u001b[0msplit\u001b[0m\u001b[1;33m(\u001b[0m\u001b[1;33m)\u001b[0m\u001b[1;33m)\u001b[0m \u001b[1;33m!=\u001b[0m \u001b[0mlen\u001b[0m\u001b[1;33m(\u001b[0m\u001b[0ma\u001b[0m\u001b[1;33m[\u001b[0m\u001b[1;34m'labels'\u001b[0m\u001b[1;33m]\u001b[0m\u001b[1;33m[\u001b[0m\u001b[0mi\u001b[0m\u001b[1;33m]\u001b[0m\u001b[1;33m.\u001b[0m\u001b[0msplit\u001b[0m\u001b[1;33m(\u001b[0m\u001b[1;33m)\u001b[0m\u001b[1;33m)\u001b[0m\u001b[1;33m:\u001b[0m\u001b[1;33m\u001b[0m\u001b[1;33m\u001b[0m\u001b[0m\n",
      "\u001b[1;32mE:\\Instalations\\lib\\site-packages\\pandas\\core\\frame.py\u001b[0m in \u001b[0;36m__getitem__\u001b[1;34m(self, key)\u001b[0m\n\u001b[0;32m   2798\u001b[0m             \u001b[1;32mif\u001b[0m \u001b[0mself\u001b[0m\u001b[1;33m.\u001b[0m\u001b[0mcolumns\u001b[0m\u001b[1;33m.\u001b[0m\u001b[0mnlevels\u001b[0m \u001b[1;33m>\u001b[0m \u001b[1;36m1\u001b[0m\u001b[1;33m:\u001b[0m\u001b[1;33m\u001b[0m\u001b[1;33m\u001b[0m\u001b[0m\n\u001b[0;32m   2799\u001b[0m                 \u001b[1;32mreturn\u001b[0m \u001b[0mself\u001b[0m\u001b[1;33m.\u001b[0m\u001b[0m_getitem_multilevel\u001b[0m\u001b[1;33m(\u001b[0m\u001b[0mkey\u001b[0m\u001b[1;33m)\u001b[0m\u001b[1;33m\u001b[0m\u001b[1;33m\u001b[0m\u001b[0m\n\u001b[1;32m-> 2800\u001b[1;33m             \u001b[0mindexer\u001b[0m \u001b[1;33m=\u001b[0m \u001b[0mself\u001b[0m\u001b[1;33m.\u001b[0m\u001b[0mcolumns\u001b[0m\u001b[1;33m.\u001b[0m\u001b[0mget_loc\u001b[0m\u001b[1;33m(\u001b[0m\u001b[0mkey\u001b[0m\u001b[1;33m)\u001b[0m\u001b[1;33m\u001b[0m\u001b[1;33m\u001b[0m\u001b[0m\n\u001b[0m\u001b[0;32m   2801\u001b[0m             \u001b[1;32mif\u001b[0m \u001b[0mis_integer\u001b[0m\u001b[1;33m(\u001b[0m\u001b[0mindexer\u001b[0m\u001b[1;33m)\u001b[0m\u001b[1;33m:\u001b[0m\u001b[1;33m\u001b[0m\u001b[1;33m\u001b[0m\u001b[0m\n\u001b[0;32m   2802\u001b[0m                 \u001b[0mindexer\u001b[0m \u001b[1;33m=\u001b[0m \u001b[1;33m[\u001b[0m\u001b[0mindexer\u001b[0m\u001b[1;33m]\u001b[0m\u001b[1;33m\u001b[0m\u001b[1;33m\u001b[0m\u001b[0m\n",
      "\u001b[1;32mE:\\Instalations\\lib\\site-packages\\pandas\\core\\indexes\\base.py\u001b[0m in \u001b[0;36mget_loc\u001b[1;34m(self, key, method, tolerance)\u001b[0m\n\u001b[0;32m   2646\u001b[0m                 \u001b[1;32mreturn\u001b[0m \u001b[0mself\u001b[0m\u001b[1;33m.\u001b[0m\u001b[0m_engine\u001b[0m\u001b[1;33m.\u001b[0m\u001b[0mget_loc\u001b[0m\u001b[1;33m(\u001b[0m\u001b[0mkey\u001b[0m\u001b[1;33m)\u001b[0m\u001b[1;33m\u001b[0m\u001b[1;33m\u001b[0m\u001b[0m\n\u001b[0;32m   2647\u001b[0m             \u001b[1;32mexcept\u001b[0m \u001b[0mKeyError\u001b[0m\u001b[1;33m:\u001b[0m\u001b[1;33m\u001b[0m\u001b[1;33m\u001b[0m\u001b[0m\n\u001b[1;32m-> 2648\u001b[1;33m                 \u001b[1;32mreturn\u001b[0m \u001b[0mself\u001b[0m\u001b[1;33m.\u001b[0m\u001b[0m_engine\u001b[0m\u001b[1;33m.\u001b[0m\u001b[0mget_loc\u001b[0m\u001b[1;33m(\u001b[0m\u001b[0mself\u001b[0m\u001b[1;33m.\u001b[0m\u001b[0m_maybe_cast_indexer\u001b[0m\u001b[1;33m(\u001b[0m\u001b[0mkey\u001b[0m\u001b[1;33m)\u001b[0m\u001b[1;33m)\u001b[0m\u001b[1;33m\u001b[0m\u001b[1;33m\u001b[0m\u001b[0m\n\u001b[0m\u001b[0;32m   2649\u001b[0m         \u001b[0mindexer\u001b[0m \u001b[1;33m=\u001b[0m \u001b[0mself\u001b[0m\u001b[1;33m.\u001b[0m\u001b[0mget_indexer\u001b[0m\u001b[1;33m(\u001b[0m\u001b[1;33m[\u001b[0m\u001b[0mkey\u001b[0m\u001b[1;33m]\u001b[0m\u001b[1;33m,\u001b[0m \u001b[0mmethod\u001b[0m\u001b[1;33m=\u001b[0m\u001b[0mmethod\u001b[0m\u001b[1;33m,\u001b[0m \u001b[0mtolerance\u001b[0m\u001b[1;33m=\u001b[0m\u001b[0mtolerance\u001b[0m\u001b[1;33m)\u001b[0m\u001b[1;33m\u001b[0m\u001b[1;33m\u001b[0m\u001b[0m\n\u001b[0;32m   2650\u001b[0m         \u001b[1;32mif\u001b[0m \u001b[0mindexer\u001b[0m\u001b[1;33m.\u001b[0m\u001b[0mndim\u001b[0m \u001b[1;33m>\u001b[0m \u001b[1;36m1\u001b[0m \u001b[1;32mor\u001b[0m \u001b[0mindexer\u001b[0m\u001b[1;33m.\u001b[0m\u001b[0msize\u001b[0m \u001b[1;33m>\u001b[0m \u001b[1;36m1\u001b[0m\u001b[1;33m:\u001b[0m\u001b[1;33m\u001b[0m\u001b[1;33m\u001b[0m\u001b[0m\n",
      "\u001b[1;32mpandas\\_libs\\index.pyx\u001b[0m in \u001b[0;36mpandas._libs.index.IndexEngine.get_loc\u001b[1;34m()\u001b[0m\n",
      "\u001b[1;32mpandas\\_libs\\index.pyx\u001b[0m in \u001b[0;36mpandas._libs.index.IndexEngine.get_loc\u001b[1;34m()\u001b[0m\n",
      "\u001b[1;32mpandas\\_libs\\hashtable_class_helper.pxi\u001b[0m in \u001b[0;36mpandas._libs.hashtable.PyObjectHashTable.get_item\u001b[1;34m()\u001b[0m\n",
      "\u001b[1;32mpandas\\_libs\\hashtable_class_helper.pxi\u001b[0m in \u001b[0;36mpandas._libs.hashtable.PyObjectHashTable.get_item\u001b[1;34m()\u001b[0m\n",
      "\u001b[1;31mKeyError\u001b[0m: 'labels'"
     ]
    }
   ],
   "source": [
    "for i in range(len(a)):\n",
    "    if type(a['text'][i]) != str:\n",
    "        print(\"text:\", i)\n",
    "    if type(a['labels'][i]) != str:\n",
    "        print(\"labels:\", i)\n",
    "    if len(a['text'][i].split()) != len(a['labels'][i].split()):\n",
    "        print(\"Not same size:\", i)"
   ]
  },
  {
   "cell_type": "code",
   "execution_count": 19,
   "metadata": {},
   "outputs": [
    {
     "data": {
      "text/plain": [
       "Index(['Unnamed: 0', 'Unnamed: 0.1', 'text', 'labels'], dtype='object')"
      ]
     },
     "execution_count": 19,
     "metadata": {},
     "output_type": "execute_result"
    }
   ],
   "source": [
    "a.columns"
   ]
  },
  {
   "cell_type": "code",
   "execution_count": 16,
   "metadata": {},
   "outputs": [],
   "source": [
    "a = pd.read_csv('data/labeled_new.csv')"
   ]
  }
 ],
 "metadata": {
  "kernelspec": {
   "display_name": "Python 3",
   "language": "python",
   "name": "python3"
  },
  "language_info": {
   "codemirror_mode": {
    "name": "ipython",
    "version": 3
   },
   "file_extension": ".py",
   "mimetype": "text/x-python",
   "name": "python",
   "nbconvert_exporter": "python",
   "pygments_lexer": "ipython3",
   "version": "3.8.3"
  }
 },
 "nbformat": 4,
 "nbformat_minor": 4
}
